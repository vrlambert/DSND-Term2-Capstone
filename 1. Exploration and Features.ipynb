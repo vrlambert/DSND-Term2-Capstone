{
 "cells": [
  {
   "cell_type": "markdown",
   "metadata": {},
   "source": [
    "# Sparkify Project\n",
    "\n",
    "As a fictional music streaming service, Sparkify is looking to predict which of it's users are most likely to stop using the service in the future. When users stop using the service it is a loss of potential revenue; users leaving a service is commonly called churn.\n",
    "\n",
    "The data provided is time series event data, it's a long format dataset that has a record for each event. Each record also contains some metadata about the user and session in addition to the type of event. The project goal can be easily summarized as: **predict the users who will churn based on the events data**. \n",
    "\n",
    "Solving this will entail first exploring the dataset, then engineering features, and finally building a model. Exploring the dataset will probably be the majority of the project in terms of length, since we have to build a good understanding of the patterns before we move on.\n",
    "\n",
    "We then will have to use those insights to write a script that transforms the event data into a features table to feed into the models. The features table should have userIds on one axis and a variety of features that can be used to split them on the other. Since there are far fewer churned users than normal users, the f1-score will be a good metric for evaluating the models. So the final solution will be a set of functions for cleaning and processing the raw data followed by a model that is effective at making the predictions. \n",
    "\n",
    "This notebook is based on a subset (128MB) of the full dataset available (12GB). It contains exploration and intial feature engineering, model training and conclusions are in the next notebook. I'll start with some imports and create the local spark session.\n",
    "\n",
    "I don't expect this project to be the most rigourous, I was mostly going to familiarize myself with PySpark as a tool for data processing."
   ]
  },
  {
   "cell_type": "code",
   "execution_count": 1,
   "metadata": {},
   "outputs": [],
   "source": [
    "# import libraries\n",
    "from pyspark.sql import SparkSession\n",
    "\n",
    "import pyspark.sql.functions as sf\n",
    "import pyspark.sql.types as st\n",
    "\n",
    "from matplotlib import pyplot as plt\n",
    "import seaborn as sns\n",
    "\n",
    "from pyspark.ml.feature import VectorAssembler\n",
    "\n",
    "sns.set_style('whitegrid')\n",
    "# %matplotlib inline"
   ]
  },
  {
   "cell_type": "code",
   "execution_count": 2,
   "metadata": {},
   "outputs": [],
   "source": [
    "# create a Spark session\n",
    "spark = SparkSession.builder \\\n",
    "    .master(\"local\") \\\n",
    "    .appName(\"Initial Exploration\") \\\n",
    "    .getOrCreate()"
   ]
  },
  {
   "cell_type": "markdown",
   "metadata": {},
   "source": [
    "# Load and Clean Dataset\n",
    "Clean your dataset, checking for invalid or missing data. For example, records without userids or sessionids. In this workspace, the filename is `mini_sparkify_event_data.json`."
   ]
  },
  {
   "cell_type": "code",
   "execution_count": 3,
   "metadata": {},
   "outputs": [
    {
     "data": {
      "text/plain": [
       "DataFrame[artist: string, auth: string, firstName: string, gender: string, itemInSession: bigint, lastName: string, length: double, level: string, location: string, method: string, page: string, registration: bigint, sessionId: bigint, song: string, status: bigint, ts: bigint, userAgent: string, userId: string]"
      ]
     },
     "execution_count": 3,
     "metadata": {},
     "output_type": "execute_result"
    }
   ],
   "source": [
    "df_raw = spark.read.json('mini_sparkify_event_data.json')\n",
    "df_raw.persist()"
   ]
  },
  {
   "cell_type": "markdown",
   "metadata": {},
   "source": [
    "Now let's check out the fields that are available and try to describe the ones that seem relevant."
   ]
  },
  {
   "cell_type": "code",
   "execution_count": 4,
   "metadata": {
    "scrolled": true
   },
   "outputs": [
    {
     "name": "stdout",
     "output_type": "stream",
     "text": [
      "root\n",
      " |-- artist: string (nullable = true)\n",
      " |-- auth: string (nullable = true)\n",
      " |-- firstName: string (nullable = true)\n",
      " |-- gender: string (nullable = true)\n",
      " |-- itemInSession: long (nullable = true)\n",
      " |-- lastName: string (nullable = true)\n",
      " |-- length: double (nullable = true)\n",
      " |-- level: string (nullable = true)\n",
      " |-- location: string (nullable = true)\n",
      " |-- method: string (nullable = true)\n",
      " |-- page: string (nullable = true)\n",
      " |-- registration: long (nullable = true)\n",
      " |-- sessionId: long (nullable = true)\n",
      " |-- song: string (nullable = true)\n",
      " |-- status: long (nullable = true)\n",
      " |-- ts: long (nullable = true)\n",
      " |-- userAgent: string (nullable = true)\n",
      " |-- userId: string (nullable = true)\n",
      "\n"
     ]
    }
   ],
   "source": [
    "df_raw.printSchema()"
   ]
  },
  {
   "cell_type": "markdown",
   "metadata": {},
   "source": [
    "Alright so here there's some clearly important features:\n",
    "- userId: Identifies unique users\n",
    "- sessionId: Identifies unique sessions for a user\n",
    "- page: The type of the event\n",
    "- ts: unix timestamp of the event\n",
    "- registraction: the timestamp of when the user registered for the platfore\n",
    "\n",
    "There are a few other features that are probably related to the song that was played (artist, song, length etc). And other than that there a few more features that relate to the specifics of the user/session (location, iteminsession, names) that might also be useful."
   ]
  },
  {
   "cell_type": "markdown",
   "metadata": {},
   "source": [
    "Now let's check out how many records we have in the dataset."
   ]
  },
  {
   "cell_type": "code",
   "execution_count": 7,
   "metadata": {},
   "outputs": [
    {
     "data": {
      "text/plain": [
       "286500"
      ]
     },
     "execution_count": 7,
     "metadata": {},
     "output_type": "execute_result"
    }
   ],
   "source": [
    "df_raw.count()"
   ]
  },
  {
   "cell_type": "markdown",
   "metadata": {},
   "source": [
    "287k, not bad!"
   ]
  },
  {
   "cell_type": "markdown",
   "metadata": {},
   "source": [
    "Now I want to move on to checking data ingegrity, the first place to start is to look for missing values. \n",
    "\n",
    "Code inspired by https://stackoverflow.com/questions/44627386/how-to-find-count-of-null-and-nan-values-for-each-column-in-a-pyspark-dataframe"
   ]
  },
  {
   "cell_type": "code",
   "execution_count": 4,
   "metadata": {
    "scrolled": false
   },
   "outputs": [
    {
     "data": {
      "text/html": [
       "<div>\n",
       "<style>\n",
       "    .dataframe thead tr:only-child th {\n",
       "        text-align: right;\n",
       "    }\n",
       "\n",
       "    .dataframe thead th {\n",
       "        text-align: left;\n",
       "    }\n",
       "\n",
       "    .dataframe tbody tr th {\n",
       "        vertical-align: top;\n",
       "    }\n",
       "</style>\n",
       "<table border=\"1\" class=\"dataframe\">\n",
       "  <thead>\n",
       "    <tr style=\"text-align: right;\">\n",
       "      <th></th>\n",
       "      <th>null_count</th>\n",
       "    </tr>\n",
       "  </thead>\n",
       "  <tbody>\n",
       "    <tr>\n",
       "      <th>artist</th>\n",
       "      <td>58392</td>\n",
       "    </tr>\n",
       "    <tr>\n",
       "      <th>auth</th>\n",
       "      <td>0</td>\n",
       "    </tr>\n",
       "    <tr>\n",
       "      <th>firstName</th>\n",
       "      <td>8346</td>\n",
       "    </tr>\n",
       "    <tr>\n",
       "      <th>gender</th>\n",
       "      <td>8346</td>\n",
       "    </tr>\n",
       "    <tr>\n",
       "      <th>itemInSession</th>\n",
       "      <td>0</td>\n",
       "    </tr>\n",
       "    <tr>\n",
       "      <th>lastName</th>\n",
       "      <td>8346</td>\n",
       "    </tr>\n",
       "    <tr>\n",
       "      <th>length</th>\n",
       "      <td>58392</td>\n",
       "    </tr>\n",
       "    <tr>\n",
       "      <th>level</th>\n",
       "      <td>0</td>\n",
       "    </tr>\n",
       "    <tr>\n",
       "      <th>location</th>\n",
       "      <td>8346</td>\n",
       "    </tr>\n",
       "    <tr>\n",
       "      <th>method</th>\n",
       "      <td>0</td>\n",
       "    </tr>\n",
       "    <tr>\n",
       "      <th>page</th>\n",
       "      <td>0</td>\n",
       "    </tr>\n",
       "    <tr>\n",
       "      <th>registration</th>\n",
       "      <td>8346</td>\n",
       "    </tr>\n",
       "    <tr>\n",
       "      <th>sessionId</th>\n",
       "      <td>0</td>\n",
       "    </tr>\n",
       "    <tr>\n",
       "      <th>song</th>\n",
       "      <td>58392</td>\n",
       "    </tr>\n",
       "    <tr>\n",
       "      <th>status</th>\n",
       "      <td>0</td>\n",
       "    </tr>\n",
       "    <tr>\n",
       "      <th>ts</th>\n",
       "      <td>0</td>\n",
       "    </tr>\n",
       "    <tr>\n",
       "      <th>userAgent</th>\n",
       "      <td>8346</td>\n",
       "    </tr>\n",
       "    <tr>\n",
       "      <th>userId</th>\n",
       "      <td>0</td>\n",
       "    </tr>\n",
       "  </tbody>\n",
       "</table>\n",
       "</div>"
      ],
      "text/plain": [
       "               null_count\n",
       "artist              58392\n",
       "auth                    0\n",
       "firstName            8346\n",
       "gender               8346\n",
       "itemInSession           0\n",
       "lastName             8346\n",
       "length              58392\n",
       "level                   0\n",
       "location             8346\n",
       "method                  0\n",
       "page                    0\n",
       "registration         8346\n",
       "sessionId               0\n",
       "song                58392\n",
       "status                  0\n",
       "ts                      0\n",
       "userAgent            8346\n",
       "userId                  0"
      ]
     },
     "execution_count": 4,
     "metadata": {},
     "output_type": "execute_result"
    }
   ],
   "source": [
    "missing = df_raw.select([sf.count(sf.when(sf.isnull(c), c)).alias(c) for c in df_raw.columns]).toPandas().T\n",
    "missing.columns = ['null_count']\n",
    "missing"
   ]
  },
  {
   "cell_type": "markdown",
   "metadata": {},
   "source": [
    "Well, there's actually quite a few missing values in some of these columns. The ones that have a lot of missing values seem to be missing song data, it's likely these are just for events that are not the song play event. The missing user and session information is pretty bad though, it's worth investigating that a bit. Interestingly there's no missing userIds, let's see what those are in that case."
   ]
  },
  {
   "cell_type": "code",
   "execution_count": 9,
   "metadata": {},
   "outputs": [
    {
     "name": "stdout",
     "output_type": "stream",
     "text": [
      "+------+\n",
      "|userId|\n",
      "+------+\n",
      "|      |\n",
      "+------+\n",
      "\n"
     ]
    }
   ],
   "source": [
    "df_raw.where(sf.isnull(df_raw.registration)).select('userId').distinct().show()"
   ]
  },
  {
   "cell_type": "markdown",
   "metadata": {},
   "source": [
    "Wow, it look's like it's just empty string for those userIds."
   ]
  },
  {
   "cell_type": "code",
   "execution_count": 10,
   "metadata": {},
   "outputs": [
    {
     "data": {
      "text/plain": [
       "8346"
      ]
     },
     "execution_count": 10,
     "metadata": {},
     "output_type": "execute_result"
    }
   ],
   "source": [
    "df_raw.count() - df_raw.filter(df_raw.userId != \"\").count()"
   ]
  },
  {
   "cell_type": "markdown",
   "metadata": {},
   "source": [
    "And the count matches the number of missing values! Let's just get rid of those records since we won't be able to associate them with a user as we want."
   ]
  },
  {
   "cell_type": "code",
   "execution_count": 21,
   "metadata": {
    "scrolled": true
   },
   "outputs": [
    {
     "data": {
      "text/plain": [
       "DataFrame[artist: string, auth: string, firstName: string, gender: string, itemInSession: bigint, lastName: string, length: double, level: string, location: string, method: string, page: string, registration: bigint, sessionId: bigint, song: string, status: bigint, ts: bigint, userAgent: string, userId: string]"
      ]
     },
     "execution_count": 21,
     "metadata": {},
     "output_type": "execute_result"
    }
   ],
   "source": [
    "df = df_raw.filter(df_raw.userId != \"\")\n",
    "df.persist()"
   ]
  },
  {
   "cell_type": "code",
   "execution_count": 11,
   "metadata": {},
   "outputs": [],
   "source": [
    "# TODO - check null session IDs in full data\n",
    "#df = df_raw.filter(df_raw.sessionId != \"\")"
   ]
  },
  {
   "cell_type": "markdown",
   "metadata": {},
   "source": [
    "# Exploratory Data Analysis\n",
    "Here we will first check out some high level features of the dataset - then define churn, and then check out some features related to churned and non-churned users!\n",
    "\n",
    "\n",
    "\n",
    "### Explore Data - High Level\n",
    "First we can look at the types of events that are available, the time range of the dataset, the number of users etc."
   ]
  },
  {
   "cell_type": "code",
   "execution_count": 22,
   "metadata": {
    "scrolled": true
   },
   "outputs": [
    {
     "data": {
      "text/plain": [
       "[Row(artist='Martha Tilston', auth='Logged In', firstName='Colin', gender='M', itemInSession=50, lastName='Freeman', length=277.89016, level='paid', location='Bakersfield, CA', method='PUT', page='NextSong', registration=1538173362000, sessionId=29, song='Rockpools', status=200, ts=1538352117000, userAgent='Mozilla/5.0 (Windows NT 6.1; WOW64; rv:31.0) Gecko/20100101 Firefox/31.0', userId='30')]"
      ]
     },
     "execution_count": 22,
     "metadata": {},
     "output_type": "execute_result"
    }
   ],
   "source": [
    "df.take(1)"
   ]
  },
  {
   "cell_type": "markdown",
   "metadata": {},
   "source": [
    "Let's look at some sample values from most columns so we understand what we are looking at. Starting with a bunch of string columns we can see that they probably won't be too useful for distinguishing users. User agent could be really interesting but would require a lot of work to decode it."
   ]
  },
  {
   "cell_type": "code",
   "execution_count": 34,
   "metadata": {},
   "outputs": [
    {
     "name": "stdout",
     "output_type": "stream",
     "text": [
      "+--------------------+--------------------+---------+--------+--------------------+--------------------+\n",
      "|              artist|                song|firstName|lastName|            location|           userAgent|\n",
      "+--------------------+--------------------+---------+--------+--------------------+--------------------+\n",
      "|      Martha Tilston|           Rockpools|    Colin| Freeman|     Bakersfield, CA|Mozilla/5.0 (Wind...|\n",
      "|    Five Iron Frenzy|              Canada|    Micah|    Long|Boston-Cambridge-...|\"Mozilla/5.0 (Win...|\n",
      "|        Adam Lambert|   Time For Miracles|    Colin| Freeman|     Bakersfield, CA|Mozilla/5.0 (Wind...|\n",
      "|              Enigma|Knocking On Forbi...|    Micah|    Long|Boston-Cambridge-...|\"Mozilla/5.0 (Win...|\n",
      "|           Daft Punk|Harder Better Fas...|    Colin| Freeman|     Bakersfield, CA|Mozilla/5.0 (Wind...|\n",
      "|The All-American ...|      Don't Leave Me|    Micah|    Long|Boston-Cambridge-...|\"Mozilla/5.0 (Win...|\n",
      "|The Velvet Underg...|         Run Run Run|    Micah|    Long|Boston-Cambridge-...|\"Mozilla/5.0 (Win...|\n",
      "|        Starflyer 59|Passengers (Old A...|    Colin| Freeman|     Bakersfield, CA|Mozilla/5.0 (Wind...|\n",
      "|                null|                null|    Colin| Freeman|     Bakersfield, CA|Mozilla/5.0 (Wind...|\n",
      "+--------------------+--------------------+---------+--------+--------------------+--------------------+\n",
      "\n"
     ]
    }
   ],
   "source": [
    "df.select(['artist', 'song', 'firstName', 'lastName', 'location', 'userAgent']).limit(9).show(10)"
   ]
  },
  {
   "cell_type": "markdown",
   "metadata": {},
   "source": [
    "Next we will move on through the other string features that only take on a few values:"
   ]
  },
  {
   "cell_type": "code",
   "execution_count": 25,
   "metadata": {},
   "outputs": [
    {
     "name": "stdout",
     "output_type": "stream",
     "text": [
      "+---------+\n",
      "|     auth|\n",
      "+---------+\n",
      "|Cancelled|\n",
      "|Logged In|\n",
      "+---------+\n",
      "\n"
     ]
    }
   ],
   "source": [
    "df.select('auth').distinct().show()"
   ]
  },
  {
   "cell_type": "markdown",
   "metadata": {},
   "source": [
    "Auth is probably not too useful."
   ]
  },
  {
   "cell_type": "code",
   "execution_count": 26,
   "metadata": {},
   "outputs": [
    {
     "name": "stdout",
     "output_type": "stream",
     "text": [
      "+-----+\n",
      "|level|\n",
      "+-----+\n",
      "| free|\n",
      "| paid|\n",
      "+-----+\n",
      "\n"
     ]
    }
   ],
   "source": [
    "df_raw.select('level').distinct().show()"
   ]
  },
  {
   "cell_type": "markdown",
   "metadata": {},
   "source": [
    "Level is how we would distinguish the free and paid sessions of users - we will discuss this a little bit later on in the project."
   ]
  },
  {
   "cell_type": "code",
   "execution_count": 27,
   "metadata": {},
   "outputs": [
    {
     "name": "stdout",
     "output_type": "stream",
     "text": [
      "+------+\n",
      "|status|\n",
      "+------+\n",
      "|   307|\n",
      "|   404|\n",
      "|   200|\n",
      "+------+\n",
      "\n"
     ]
    }
   ],
   "source": [
    "df_raw.select('status').distinct().show()"
   ]
  },
  {
   "cell_type": "markdown",
   "metadata": {},
   "source": [
    "Status could be pretty interesting, perhaps certain statuses relate to errors."
   ]
  },
  {
   "cell_type": "code",
   "execution_count": 28,
   "metadata": {},
   "outputs": [
    {
     "name": "stdout",
     "output_type": "stream",
     "text": [
      "+------+\n",
      "|method|\n",
      "+------+\n",
      "|   PUT|\n",
      "|   GET|\n",
      "+------+\n",
      "\n"
     ]
    }
   ],
   "source": [
    "df_raw.select('method').distinct().show()"
   ]
  },
  {
   "cell_type": "markdown",
   "metadata": {},
   "source": [
    "Method is unlikely to be useful. Next we can move on to a few of the numerical features, starting with song length."
   ]
  },
  {
   "cell_type": "code",
   "execution_count": 29,
   "metadata": {},
   "outputs": [
    {
     "name": "stdout",
     "output_type": "stream",
     "text": [
      "+-------+-----------------+\n",
      "|summary|           length|\n",
      "+-------+-----------------+\n",
      "|  count|           228108|\n",
      "|   mean|249.1171819778458|\n",
      "| stddev|99.23517921058361|\n",
      "|    min|          0.78322|\n",
      "|    max|       3024.66567|\n",
      "+-------+-----------------+\n",
      "\n"
     ]
    }
   ],
   "source": [
    "df.select('length').describe().show()"
   ]
  },
  {
   "cell_type": "markdown",
   "metadata": {},
   "source": [
    "Looks like this let's us get access to some descriptive statistics about song length. There might be some clever feature that could be extracted here, like how often people skip a song - but that would be really challenging. itemInSession is technically a numerical feature but a standard analysis isn't too useful. It just tells the number position of the event within a single session."
   ]
  },
  {
   "cell_type": "code",
   "execution_count": 30,
   "metadata": {
    "scrolled": true
   },
   "outputs": [
    {
     "name": "stdout",
     "output_type": "stream",
     "text": [
      "+-------+------------------+\n",
      "|summary|     itemInSession|\n",
      "+-------+------------------+\n",
      "|  count|            278154|\n",
      "|   mean|114.89918174824018|\n",
      "| stddev|  129.851729399489|\n",
      "|    min|                 0|\n",
      "|    max|              1321|\n",
      "+-------+------------------+\n",
      "\n"
     ]
    }
   ],
   "source": [
    "df.select('itemInSession').describe().show()"
   ]
  },
  {
   "cell_type": "markdown",
   "metadata": {},
   "source": [
    "Next we can take a look at the two timestamp features, registration and ts. It looks like they are in unix or ns format so we'll have to clean that up later."
   ]
  },
  {
   "cell_type": "code",
   "execution_count": 33,
   "metadata": {},
   "outputs": [
    {
     "name": "stdout",
     "output_type": "stream",
     "text": [
      "+-------------+-------------+\n",
      "| registration|           ts|\n",
      "+-------------+-------------+\n",
      "|1538173362000|1538352117000|\n",
      "|1538331630000|1538352180000|\n",
      "|1538173362000|1538352394000|\n",
      "|1538331630000|1538352416000|\n",
      "|1538173362000|1538352676000|\n",
      "+-------------+-------------+\n",
      "\n"
     ]
    }
   ],
   "source": [
    "df.select(['registration', 'ts']).limit(5).show()"
   ]
  },
  {
   "cell_type": "markdown",
   "metadata": {},
   "source": [
    "Finally we can move on to the user and session ids, which are numeric features but should really act like strings since they are unique ids."
   ]
  },
  {
   "cell_type": "code",
   "execution_count": 32,
   "metadata": {},
   "outputs": [
    {
     "name": "stdout",
     "output_type": "stream",
     "text": [
      "+------+---------+\n",
      "|userId|sessionId|\n",
      "+------+---------+\n",
      "|    30|       29|\n",
      "|     9|        8|\n",
      "|    30|       29|\n",
      "|     9|        8|\n",
      "|    30|       29|\n",
      "+------+---------+\n",
      "\n"
     ]
    }
   ],
   "source": [
    "df.select(['userId', 'sessionId']).limit(5).show()"
   ]
  },
  {
   "cell_type": "markdown",
   "metadata": {},
   "source": [
    "First let's check the number of sessions and users in the subset."
   ]
  },
  {
   "cell_type": "code",
   "execution_count": 12,
   "metadata": {
    "scrolled": true
   },
   "outputs": [
    {
     "name": "stdout",
     "output_type": "stream",
     "text": [
      "+----------------------+-------------------------+\n",
      "|count(DISTINCT userId)|count(DISTINCT sessionId)|\n",
      "+----------------------+-------------------------+\n",
      "|                   225|                     2312|\n",
      "+----------------------+-------------------------+\n",
      "\n"
     ]
    }
   ],
   "source": [
    "df.agg(sf.countDistinct('userId'), sf.countDistinct('sessionId')).show()"
   ]
  },
  {
   "cell_type": "markdown",
   "metadata": {},
   "source": [
    "Finally we can move on to the page feature which is the most important."
   ]
  },
  {
   "cell_type": "code",
   "execution_count": 122,
   "metadata": {},
   "outputs": [
    {
     "data": {
      "text/html": [
       "<div>\n",
       "<style scoped>\n",
       "    .dataframe tbody tr th:only-of-type {\n",
       "        vertical-align: middle;\n",
       "    }\n",
       "\n",
       "    .dataframe tbody tr th {\n",
       "        vertical-align: top;\n",
       "    }\n",
       "\n",
       "    .dataframe thead th {\n",
       "        text-align: right;\n",
       "    }\n",
       "</style>\n",
       "<table border=\"1\" class=\"dataframe\">\n",
       "  <thead>\n",
       "    <tr style=\"text-align: right;\">\n",
       "      <th></th>\n",
       "      <th>page</th>\n",
       "    </tr>\n",
       "  </thead>\n",
       "  <tbody>\n",
       "    <tr>\n",
       "      <th>0</th>\n",
       "      <td>About</td>\n",
       "    </tr>\n",
       "    <tr>\n",
       "      <th>1</th>\n",
       "      <td>Add Friend</td>\n",
       "    </tr>\n",
       "    <tr>\n",
       "      <th>2</th>\n",
       "      <td>Add to Playlist</td>\n",
       "    </tr>\n",
       "    <tr>\n",
       "      <th>3</th>\n",
       "      <td>Cancel</td>\n",
       "    </tr>\n",
       "    <tr>\n",
       "      <th>4</th>\n",
       "      <td>Cancellation Confirmation</td>\n",
       "    </tr>\n",
       "    <tr>\n",
       "      <th>5</th>\n",
       "      <td>Downgrade</td>\n",
       "    </tr>\n",
       "    <tr>\n",
       "      <th>6</th>\n",
       "      <td>Error</td>\n",
       "    </tr>\n",
       "    <tr>\n",
       "      <th>7</th>\n",
       "      <td>Help</td>\n",
       "    </tr>\n",
       "    <tr>\n",
       "      <th>8</th>\n",
       "      <td>Home</td>\n",
       "    </tr>\n",
       "    <tr>\n",
       "      <th>9</th>\n",
       "      <td>Logout</td>\n",
       "    </tr>\n",
       "    <tr>\n",
       "      <th>10</th>\n",
       "      <td>NextSong</td>\n",
       "    </tr>\n",
       "    <tr>\n",
       "      <th>11</th>\n",
       "      <td>Roll Advert</td>\n",
       "    </tr>\n",
       "    <tr>\n",
       "      <th>12</th>\n",
       "      <td>Save Settings</td>\n",
       "    </tr>\n",
       "    <tr>\n",
       "      <th>13</th>\n",
       "      <td>Settings</td>\n",
       "    </tr>\n",
       "    <tr>\n",
       "      <th>14</th>\n",
       "      <td>Submit Downgrade</td>\n",
       "    </tr>\n",
       "    <tr>\n",
       "      <th>15</th>\n",
       "      <td>Submit Upgrade</td>\n",
       "    </tr>\n",
       "    <tr>\n",
       "      <th>16</th>\n",
       "      <td>Thumbs Down</td>\n",
       "    </tr>\n",
       "    <tr>\n",
       "      <th>17</th>\n",
       "      <td>Thumbs Up</td>\n",
       "    </tr>\n",
       "    <tr>\n",
       "      <th>18</th>\n",
       "      <td>Upgrade</td>\n",
       "    </tr>\n",
       "  </tbody>\n",
       "</table>\n",
       "</div>"
      ],
      "text/plain": [
       "                         page\n",
       "0                       About\n",
       "1                  Add Friend\n",
       "2             Add to Playlist\n",
       "3                      Cancel\n",
       "4   Cancellation Confirmation\n",
       "5                   Downgrade\n",
       "6                       Error\n",
       "7                        Help\n",
       "8                        Home\n",
       "9                      Logout\n",
       "10                   NextSong\n",
       "11                Roll Advert\n",
       "12              Save Settings\n",
       "13                   Settings\n",
       "14           Submit Downgrade\n",
       "15             Submit Upgrade\n",
       "16                Thumbs Down\n",
       "17                  Thumbs Up\n",
       "18                    Upgrade"
      ]
     },
     "execution_count": 122,
     "metadata": {},
     "output_type": "execute_result"
    }
   ],
   "source": [
    "pages = df.select('page').distinct().sort('page')\n",
    "pages.toPandas()"
   ]
  },
  {
   "cell_type": "markdown",
   "metadata": {},
   "source": [
    "Wow, now we should see which ones are most frequent."
   ]
  },
  {
   "cell_type": "code",
   "execution_count": 24,
   "metadata": {
    "scrolled": false
   },
   "outputs": [
    {
     "data": {
      "text/html": [
       "<div>\n",
       "<style>\n",
       "    .dataframe thead tr:only-child th {\n",
       "        text-align: right;\n",
       "    }\n",
       "\n",
       "    .dataframe thead th {\n",
       "        text-align: left;\n",
       "    }\n",
       "\n",
       "    .dataframe tbody tr th {\n",
       "        vertical-align: top;\n",
       "    }\n",
       "</style>\n",
       "<table border=\"1\" class=\"dataframe\">\n",
       "  <thead>\n",
       "    <tr style=\"text-align: right;\">\n",
       "      <th></th>\n",
       "      <th>count</th>\n",
       "    </tr>\n",
       "    <tr>\n",
       "      <th>page</th>\n",
       "      <th></th>\n",
       "    </tr>\n",
       "  </thead>\n",
       "  <tbody>\n",
       "    <tr>\n",
       "      <th>NextSong</th>\n",
       "      <td>228108</td>\n",
       "    </tr>\n",
       "    <tr>\n",
       "      <th>Thumbs Up</th>\n",
       "      <td>12551</td>\n",
       "    </tr>\n",
       "    <tr>\n",
       "      <th>Home</th>\n",
       "      <td>10082</td>\n",
       "    </tr>\n",
       "    <tr>\n",
       "      <th>Add to Playlist</th>\n",
       "      <td>6526</td>\n",
       "    </tr>\n",
       "    <tr>\n",
       "      <th>Add Friend</th>\n",
       "      <td>4277</td>\n",
       "    </tr>\n",
       "    <tr>\n",
       "      <th>Roll Advert</th>\n",
       "      <td>3933</td>\n",
       "    </tr>\n",
       "    <tr>\n",
       "      <th>Logout</th>\n",
       "      <td>3226</td>\n",
       "    </tr>\n",
       "    <tr>\n",
       "      <th>Thumbs Down</th>\n",
       "      <td>2546</td>\n",
       "    </tr>\n",
       "    <tr>\n",
       "      <th>Downgrade</th>\n",
       "      <td>2055</td>\n",
       "    </tr>\n",
       "    <tr>\n",
       "      <th>Settings</th>\n",
       "      <td>1514</td>\n",
       "    </tr>\n",
       "    <tr>\n",
       "      <th>Help</th>\n",
       "      <td>1454</td>\n",
       "    </tr>\n",
       "    <tr>\n",
       "      <th>Upgrade</th>\n",
       "      <td>499</td>\n",
       "    </tr>\n",
       "    <tr>\n",
       "      <th>About</th>\n",
       "      <td>495</td>\n",
       "    </tr>\n",
       "    <tr>\n",
       "      <th>Save Settings</th>\n",
       "      <td>310</td>\n",
       "    </tr>\n",
       "    <tr>\n",
       "      <th>Error</th>\n",
       "      <td>252</td>\n",
       "    </tr>\n",
       "    <tr>\n",
       "      <th>Submit Upgrade</th>\n",
       "      <td>159</td>\n",
       "    </tr>\n",
       "    <tr>\n",
       "      <th>Submit Downgrade</th>\n",
       "      <td>63</td>\n",
       "    </tr>\n",
       "    <tr>\n",
       "      <th>Cancel</th>\n",
       "      <td>52</td>\n",
       "    </tr>\n",
       "    <tr>\n",
       "      <th>Cancellation Confirmation</th>\n",
       "      <td>52</td>\n",
       "    </tr>\n",
       "  </tbody>\n",
       "</table>\n",
       "</div>"
      ],
      "text/plain": [
       "                            count\n",
       "page                             \n",
       "NextSong                   228108\n",
       "Thumbs Up                   12551\n",
       "Home                        10082\n",
       "Add to Playlist              6526\n",
       "Add Friend                   4277\n",
       "Roll Advert                  3933\n",
       "Logout                       3226\n",
       "Thumbs Down                  2546\n",
       "Downgrade                    2055\n",
       "Settings                     1514\n",
       "Help                         1454\n",
       "Upgrade                       499\n",
       "About                         495\n",
       "Save Settings                 310\n",
       "Error                         252\n",
       "Submit Upgrade                159\n",
       "Submit Downgrade               63\n",
       "Cancel                         52\n",
       "Cancellation Confirmation      52"
      ]
     },
     "execution_count": 24,
     "metadata": {},
     "output_type": "execute_result"
    }
   ],
   "source": [
    "event_counts = df.groupby('page').count().sort('count', ascending=False).toPandas().set_index('page')\n",
    "event_counts"
   ]
  },
  {
   "cell_type": "markdown",
   "metadata": {},
   "source": [
    "Wow the song related event is by far the most common. The others are still going to be really useful, but there will probably have to be a bunch of features built using the song events!"
   ]
  },
  {
   "cell_type": "code",
   "execution_count": 83,
   "metadata": {},
   "outputs": [
    {
     "data": {
      "text/plain": [
       "Text(0,0.5,'Event Name')"
      ]
     },
     "execution_count": 83,
     "metadata": {},
     "output_type": "execute_result"
    },
    {
     "data": {
      "image/png": "[encoded data removed]",
      "text/plain": [
       "<matplotlib.figure.Figure at 0x7f360f21d6d8>"
      ]
     },
     "metadata": {},
     "output_type": "display_data"
    }
   ],
   "source": [
    "plt.figure(figsize=(8,10))\n",
    "\n",
    "g = sns.barplot(\n",
    "    x=event_counts['count'],\n",
    "    y=event_counts.index,\n",
    "    color='navy',\n",
    "    log=True\n",
    ")\n",
    "\n",
    "g.set_title('Event Counts')\n",
    "g.set_xlabel('Log(count)')\n",
    "g.set_ylabel('Event Name')"
   ]
  },
  {
   "cell_type": "markdown",
   "metadata": {},
   "source": [
    "Taking a look at the log of the event count makes it even more clear that the song related events are way ahead, and the other more negative events including Errors, Cancellation, and Downgrade are all way more rare. Now let's convert the timestamp features to a more easy to use format."
   ]
  },
  {
   "cell_type": "code",
   "execution_count": 8,
   "metadata": {},
   "outputs": [
    {
     "name": "stdout",
     "output_type": "stream",
     "text": [
      "+-------------+-------------------+-------------+-------------------+\n",
      "|           ts|          timestamp| registration|    registration_ts|\n",
      "+-------------+-------------------+-------------+-------------------+\n",
      "|1538352117000|2018-10-01 00:01:57|1538173362000|2018-09-28 22:22:42|\n",
      "|1538352180000|2018-10-01 00:03:00|1538331630000|2018-09-30 18:20:30|\n",
      "|1538352394000|2018-10-01 00:06:34|1538173362000|2018-09-28 22:22:42|\n",
      "|1538352416000|2018-10-01 00:06:56|1538331630000|2018-09-30 18:20:30|\n",
      "|1538352676000|2018-10-01 00:11:16|1538173362000|2018-09-28 22:22:42|\n",
      "+-------------+-------------------+-------------+-------------------+\n",
      "only showing top 5 rows\n",
      "\n"
     ]
    }
   ],
   "source": [
    "def convert_ms(x):\n",
    "    \"\"\"Converts given ns to ms\"\"\"\n",
    "    if x is None:\n",
    "        return None\n",
    "    \n",
    "    return x//1000\n",
    "\n",
    "convert_ms_udf = sf.udf(convert_ms, st.LongType())\n",
    "\n",
    "df = df.withColumn('timestamp', convert_ms_udf(df.ts).cast('timestamp'))\n",
    "df = df.withColumn('registration_ts', convert_ms_udf(df.registration).cast('timestamp'))\n",
    "\n",
    "df.select('ts', 'timestamp', 'registration', 'registration_ts').show(5)"
   ]
  },
  {
   "cell_type": "markdown",
   "metadata": {},
   "source": [
    "Now we can check out the range of registrations and the time window of the events that we have available."
   ]
  },
  {
   "cell_type": "code",
   "execution_count": 17,
   "metadata": {},
   "outputs": [
    {
     "name": "stdout",
     "output_type": "stream",
     "text": [
      "+-------------------+-------------------+\n",
      "|     min(timestamp)|     max(timestamp)|\n",
      "+-------------------+-------------------+\n",
      "|2018-10-01 00:01:57|2018-12-03 01:11:16|\n",
      "+-------------------+-------------------+\n",
      "\n"
     ]
    }
   ],
   "source": [
    "df.agg(sf.min('timestamp'), sf.max('timestamp')).show()"
   ]
  },
  {
   "cell_type": "code",
   "execution_count": 18,
   "metadata": {},
   "outputs": [
    {
     "name": "stdout",
     "output_type": "stream",
     "text": [
      "+--------------------+--------------------+\n",
      "|min(registration_ts)|max(registration_ts)|\n",
      "+--------------------+--------------------+\n",
      "| 2018-03-18 13:44:35| 2018-11-26 15:49:14|\n",
      "+--------------------+--------------------+\n",
      "\n"
     ]
    }
   ],
   "source": [
    "df.agg(sf.min('registration_ts'), sf.max('registration_ts')).show()"
   ]
  },
  {
   "cell_type": "markdown",
   "metadata": {},
   "source": [
    "Now we can add a function to make some time plots a little easier."
   ]
  },
  {
   "cell_type": "code",
   "execution_count": 45,
   "metadata": {},
   "outputs": [],
   "source": [
    "def plot_time_counts(df, page=None, agg='day', by_field=None):\n",
    "    \"\"\"\n",
    "    Function to aggregate by date and get the resulting counts. Displays the resulting line plot.\n",
    "    \n",
    "    Parameters:\n",
    "        df (PySpark Dataframe): Input Dataframe\n",
    "        page (str): Optional, input an event to limit the count to just that event\n",
    "        agg (str): Optional, input a date or time trunc type to change the granularity\n",
    "        by_field (str)): Optional, input a field to aggregate by that too\n",
    "        \n",
    "    Returns:\n",
    "        None\n",
    "    \"\"\"\n",
    "    if page is not None:\n",
    "        plot_df = df.where(df.page==page)\n",
    "    else:\n",
    "        plot_df = df\n",
    "    \n",
    "    if by_field is None:\n",
    "        group = sf.date_trunc(agg, plot_df.timestamp).alias(agg)\n",
    "    elif by_field is not None:\n",
    "        group = [sf.date_trunc(agg, plot_df.timestamp).alias(agg), by_field]\n",
    "        \n",
    "    daily_counts = plot_df.groupby(group).count().sort(agg).toPandas()\n",
    "    \n",
    "    plt.figure(figsize=(12,6))\n",
    "    ax = sns.lineplot(x=agg, \n",
    "                     y='count', \n",
    "                     hue=by_field, \n",
    "                     data=daily_counts)\n",
    "    plt.xticks(rotation=30, ha=\"right\")\n",
    "\n",
    "#     ax.set_xticklabels(ax.get_xticklabels(), rotation=40, ha=\"right\")\n"
   ]
  },
  {
   "cell_type": "markdown",
   "metadata": {},
   "source": [
    "Now we can plot the daily event counts to check for patterns"
   ]
  },
  {
   "cell_type": "code",
   "execution_count": 46,
   "metadata": {},
   "outputs": [
    {
     "data": {
      "image/png": "[encoded data removed]",
      "text/plain": [
       "<Figure size 864x432 with 1 Axes>"
      ]
     },
     "metadata": {
      "needs_background": "light"
     },
     "output_type": "display_data"
    }
   ],
   "source": [
    "plot_time_counts(df)"
   ]
  },
  {
   "cell_type": "markdown",
   "metadata": {},
   "source": [
    "We can see the pattern in the day of the week! Probably won't be useful to distinguish users but it's interesting. Also seems like the last events are a bit of a mistake. We can define another useful plotting function now to look at user distributions."
   ]
  },
  {
   "cell_type": "code",
   "execution_count": 132,
   "metadata": {},
   "outputs": [],
   "source": [
    "def plot_field_count_dist(df, field, page=None):\n",
    "    \"\"\"\n",
    "    Plots the distribution of a given field\n",
    "    \n",
    "    Arguments:\n",
    "        df (Spark DataFrame): the input dataframe\n",
    "        field (str): The field to graph the distribution of\n",
    "        page (str): Optional, limits the distribution to a single page\n",
    "    \"\"\"\n",
    "    if page is not None:\n",
    "        plot_df = df.where(df.page==page)\n",
    "    else:\n",
    "        plot_df = df\n",
    "    \n",
    "    field_counts = plot_df.groupby(field).count().toPandas()\n",
    "    \n",
    "    sns.distplot(field_counts['count'], \n",
    "                 kde=False, \n",
    "                 bins=20)\n",
    "    \n",
    "    return field_counts"
   ]
  },
  {
   "cell_type": "markdown",
   "metadata": {},
   "source": [
    "First we can look at the distribution of the number of events by user. It looks like there's a long tail but it's a power distribution."
   ]
  },
  {
   "cell_type": "code",
   "execution_count": 74,
   "metadata": {},
   "outputs": [
    {
     "data": {
      "image/png": "[encoded data removed]",
      "text/plain": [
       "<Figure size 576x432 with 1 Axes>"
      ]
     },
     "metadata": {
      "needs_background": "light"
     },
     "output_type": "display_data"
    }
   ],
   "source": [
    "plt.figure(figsize=(8,6))\n",
    "user_counts = plot_field_count_dist(df, 'userId')"
   ]
  },
  {
   "cell_type": "code",
   "execution_count": 26,
   "metadata": {
    "scrolled": true
   },
   "outputs": [
    {
     "data": {
      "text/plain": [
       "count     225.000000\n",
       "mean     1236.240000\n",
       "std      1329.531716\n",
       "min         6.000000\n",
       "25%       296.000000\n",
       "50%       848.000000\n",
       "75%      1863.000000\n",
       "max      9632.000000\n",
       "Name: count, dtype: float64"
      ]
     },
     "execution_count": 26,
     "metadata": {},
     "output_type": "execute_result"
    }
   ],
   "source": [
    "user_counts['count'].describe()"
   ]
  },
  {
   "cell_type": "markdown",
   "metadata": {},
   "source": [
    "The distribution of events per session looks similar although slightly less dramatic."
   ]
  },
  {
   "cell_type": "code",
   "execution_count": 65,
   "metadata": {
    "scrolled": false
   },
   "outputs": [
    {
     "data": {
      "image/png": "[encoded data removed]",
      "text/plain": [
       "<Figure size 576x432 with 1 Axes>"
      ]
     },
     "metadata": {
      "needs_background": "light"
     },
     "output_type": "display_data"
    }
   ],
   "source": [
    "plt.figure(figsize=(8,6))\n",
    "session_counts = plot_field_count_dist(df, 'sessionId')"
   ]
  },
  {
   "cell_type": "code",
   "execution_count": 66,
   "metadata": {},
   "outputs": [
    {
     "data": {
      "text/plain": [
       "count    2312.000000\n",
       "mean      120.308824\n",
       "std       134.407683\n",
       "min         1.000000\n",
       "25%        28.000000\n",
       "50%        72.000000\n",
       "75%       169.000000\n",
       "max      1282.000000\n",
       "Name: count, dtype: float64"
      ]
     },
     "execution_count": 66,
     "metadata": {},
     "output_type": "execute_result"
    }
   ],
   "source": [
    "session_counts['count'].describe()"
   ]
  },
  {
   "cell_type": "markdown",
   "metadata": {},
   "source": [
    "### Define Churn\n",
    "\n",
    "Now we have to figure out what event or pattern of events will count as churn. After looking at a few examples I settled on using `Cancellation Confirmation` events, although `Submit Downgrade` would also be interesting too look at in the future.\n",
    "\n",
    "First we confirm that cancellation confirmation can occur with both free and paid users which gives it a minor advantage in predicting churn."
   ]
  },
  {
   "cell_type": "code",
   "execution_count": 24,
   "metadata": {
    "scrolled": true
   },
   "outputs": [
    {
     "name": "stdout",
     "output_type": "stream",
     "text": [
      "+--------------------+-------------------+------+---------+-----+\n",
      "|                page|          timestamp|userId|sessionId|level|\n",
      "+--------------------+-------------------+------+---------+-----+\n",
      "|Cancellation Conf...|2018-10-07 20:26:30|    18|      514| paid|\n",
      "|Cancellation Conf...|2018-10-08 21:10:46|    32|      540| paid|\n",
      "|Cancellation Conf...|2018-10-12 04:35:18|   125|      174| free|\n",
      "|Cancellation Conf...|2018-10-12 20:17:21|   105|      508| paid|\n",
      "|Cancellation Conf...|2018-10-13 21:19:44|    17|      797| paid|\n",
      "|Cancellation Conf...|2018-10-15 07:34:14|   143|      843| free|\n",
      "|Cancellation Conf...|2018-10-16 22:30:37|   101|      842| paid|\n",
      "|Cancellation Conf...|2018-10-17 00:29:21|   129|      802| paid|\n",
      "|Cancellation Conf...|2018-10-17 07:02:29|   121|      881| paid|\n",
      "|Cancellation Conf...|2018-10-17 07:39:32|    51|      934| paid|\n",
      "+--------------------+-------------------+------+---------+-----+\n",
      "only showing top 10 rows\n",
      "\n"
     ]
    }
   ],
   "source": [
    "df.where(df.page=='Cancellation Confirmation').select(['page', 'timestamp', 'userId', 'sessionId', 'level']).show(10)"
   ]
  },
  {
   "cell_type": "markdown",
   "metadata": {},
   "source": [
    "Now let's look at an eventstream for a user that hit's `Cancellation Confirmation`."
   ]
  },
  {
   "cell_type": "code",
   "execution_count": 32,
   "metadata": {
    "scrolled": true
   },
   "outputs": [
    {
     "name": "stdout",
     "output_type": "stream",
     "text": [
      "+-------------------+--------------------+---------+-----+\n",
      "|          timestamp|                page|sessionId|level|\n",
      "+-------------------+--------------------+---------+-----+\n",
      "|2018-10-17 06:35:39|     Add to Playlist|      881| paid|\n",
      "|2018-10-17 06:39:24|            NextSong|      881| paid|\n",
      "|2018-10-17 06:39:25|           Downgrade|      881| paid|\n",
      "|2018-10-17 06:42:28|            NextSong|      881| paid|\n",
      "|2018-10-17 06:42:29|           Thumbs Up|      881| paid|\n",
      "|2018-10-17 06:46:50|            NextSong|      881| paid|\n",
      "|2018-10-17 06:51:17|            NextSong|      881| paid|\n",
      "|2018-10-17 06:56:09|            NextSong|      881| paid|\n",
      "|2018-10-17 07:02:06|            NextSong|      881| paid|\n",
      "|2018-10-17 07:02:18|           Downgrade|      881| paid|\n",
      "|2018-10-17 07:02:19|              Cancel|      881| paid|\n",
      "|2018-10-17 07:02:29|Cancellation Conf...|      881| paid|\n",
      "+-------------------+--------------------+---------+-----+\n",
      "\n"
     ]
    }
   ],
   "source": [
    "df.where((df.userId==121) &\n",
    "         (df.timestamp>'2018-10-17 06:35:23')).sort('ts').select('timestamp', 'page','sessionId', 'level').show()"
   ]
  },
  {
   "cell_type": "markdown",
   "metadata": {},
   "source": [
    "Looks like the session always ends with the cancellation confirmation event, that's super interesting. It looks like once that event happens the user is just totally gone. That's why this is a good event to use for our definition of churn. Now just for completeness let's look at a downgrade event."
   ]
  },
  {
   "cell_type": "code",
   "execution_count": 31,
   "metadata": {},
   "outputs": [
    {
     "name": "stdout",
     "output_type": "stream",
     "text": [
      "+-------------------+----------------+---------+-----+\n",
      "|          timestamp|            page|sessionId|level|\n",
      "+-------------------+----------------+---------+-----+\n",
      "|2018-11-19 23:26:00|        NextSong|     2041| paid|\n",
      "|2018-11-19 23:31:02|        NextSong|     2041| paid|\n",
      "|2018-11-19 23:34:49|        NextSong|     2041| paid|\n",
      "|2018-11-19 23:43:52|        NextSong|     2041| paid|\n",
      "|2018-11-19 23:46:25|        NextSong|     2041| paid|\n",
      "|2018-11-19 23:51:15|        NextSong|     2041| paid|\n",
      "|2018-11-19 23:51:36|       Downgrade|     2041| paid|\n",
      "|2018-11-19 23:51:37|Submit Downgrade|     2041| paid|\n",
      "|2018-11-19 23:52:00|            Home|     2041| free|\n",
      "|2018-11-19 23:54:39|        NextSong|     2041| free|\n",
      "|2018-11-19 23:59:05|        NextSong|     2041| free|\n",
      "|2018-11-20 00:03:59|        NextSong|     2041| free|\n",
      "|2018-11-20 00:07:03|        NextSong|     2041| free|\n",
      "|2018-11-20 00:10:56|        NextSong|     2041| free|\n",
      "+-------------------+----------------+---------+-----+\n",
      "\n"
     ]
    }
   ],
   "source": [
    "df.where((df.userId==131) & \n",
    "         (df.timestamp>'2018-11-19 23:23:15') & \n",
    "         (df.timestamp<'2018-11-20 00:15:09')).sort('ts').select('timestamp', 'page','sessionId', 'level').show()"
   ]
  },
  {
   "cell_type": "markdown",
   "metadata": {},
   "source": [
    "It's exactly as we would expect - the user goes from paid to free. I'm not going to look at those in this project but it would be a really interesting extension.\n",
    "\n",
    "Next we'll set up our data to investigate churned v non-churned users."
   ]
  },
  {
   "cell_type": "code",
   "execution_count": 16,
   "metadata": {},
   "outputs": [],
   "source": [
    "churn_users = df.where(df.page=='Cancellation Confirmation').select('userId').toPandas().userId.tolist()\n",
    "\n",
    "df = df.withColumn('churn', df.userId.isin(churn_users))"
   ]
  },
  {
   "cell_type": "markdown",
   "metadata": {},
   "source": [
    "Now let's use the functions set up earlier to check out the segmented data. First let's look at event counts."
   ]
  },
  {
   "cell_type": "code",
   "execution_count": 47,
   "metadata": {},
   "outputs": [
    {
     "data": {
      "image/png": "[encoded data removed]",
      "text/plain": [
       "<Figure size 864x432 with 1 Axes>"
      ]
     },
     "metadata": {
      "needs_background": "light"
     },
     "output_type": "display_data"
    }
   ],
   "source": [
    "plot_time_counts(df, by_field='churn')"
   ]
  },
  {
   "cell_type": "markdown",
   "metadata": {},
   "source": [
    "Churned users show a decrease in total events which is expected since they leave after the churn event. The engagement of non-churn users seems to go up as time goes on, this could be a useful pattern!"
   ]
  },
  {
   "cell_type": "markdown",
   "metadata": {},
   "source": [
    "Now I'm curious about the time distribution of the churn events, maybe they are frontloaded?"
   ]
  },
  {
   "cell_type": "code",
   "execution_count": 37,
   "metadata": {},
   "outputs": [],
   "source": [
    "week_fn = sf.date_trunc('week', df.timestamp).alias('week')\n",
    "\n",
    "week_counts = df.where(df.page=='Cancellation Confirmation').groupby(week_fn).count().sort('week').toPandas()"
   ]
  },
  {
   "cell_type": "code",
   "execution_count": 50,
   "metadata": {},
   "outputs": [],
   "source": [
    "week_counts.set_index('week', inplace=True)"
   ]
  },
  {
   "cell_type": "code",
   "execution_count": 64,
   "metadata": {},
   "outputs": [],
   "source": [
    "import datetime"
   ]
  },
  {
   "cell_type": "code",
   "execution_count": 78,
   "metadata": {
    "scrolled": false
   },
   "outputs": [
    {
     "data": {
      "text/plain": [
       "[Text(0, 0, '2018-10-01'),\n",
       " Text(0, 0, '2018-10-08'),\n",
       " Text(0, 0, '2018-10-15'),\n",
       " Text(0, 0, '2018-10-22'),\n",
       " Text(0, 0, '2018-10-29'),\n",
       " Text(0, 0, '2018-11-05'),\n",
       " Text(0, 0, '2018-11-12'),\n",
       " Text(0, 0, '2018-11-19'),\n",
       " Text(0, 0, '2018-11-26')]"
      ]
     },
     "execution_count": 78,
     "metadata": {},
     "output_type": "execute_result"
    },
    {
     "data": {
      "image/png": "[encoded data removed]",
      "text/plain": [
       "<Figure size 720x432 with 1 Axes>"
      ]
     },
     "metadata": {
      "needs_background": "light"
     },
     "output_type": "display_data"
    }
   ],
   "source": [
    "plt.figure(figsize=(10,6))\n",
    "ax = sns.barplot(\n",
    "        x=week_counts.index,\n",
    "        y=week_counts['count'],\n",
    "        color='green'\n",
    ")\n",
    "\n",
    "# ax.set_xlim(left=datetime.date(2018, 10, 1), right=datetime.date(2018, 12, 4))\n",
    "x_dates = week_counts.index.strftime('%Y-%m-%d').sort_values().unique()\n",
    "ax.set_xticklabels(labels=x_dates, rotation=45, ha='right')"
   ]
  },
  {
   "cell_type": "markdown",
   "metadata": {},
   "source": [
    "Looks like the churn events are slightly frontloaded but not as bad as I thought. There are still a good number of churn events later in the dataset. Next let's see if different users have different account ages, based on registration. First I want to check if there are any users that register during our event period."
   ]
  },
  {
   "cell_type": "code",
   "execution_count": 99,
   "metadata": {},
   "outputs": [],
   "source": [
    "min_timestamp = df.select(sf.min('timestamp')).first()[0]"
   ]
  },
  {
   "cell_type": "code",
   "execution_count": 106,
   "metadata": {
    "scrolled": true
   },
   "outputs": [
    {
     "data": {
      "text/plain": [
       "5"
      ]
     },
     "execution_count": 106,
     "metadata": {},
     "output_type": "execute_result"
    }
   ],
   "source": [
    "df.where(df.registration_ts > min_timestamp).select('userId', 'churn', 'registration_ts').distinct().count()"
   ]
  },
  {
   "cell_type": "code",
   "execution_count": 108,
   "metadata": {
    "scrolled": true
   },
   "outputs": [
    {
     "name": "stdout",
     "output_type": "stream",
     "text": [
      "+------+-----+-------------------+\n",
      "|userId|churn|    registration_ts|\n",
      "+------+-----+-------------------+\n",
      "|   152|false|2018-10-30 23:03:28|\n",
      "|   154|false|2018-11-03 18:00:21|\n",
      "|   155|false|2018-11-04 22:27:50|\n",
      "|   153|false|2018-11-03 05:42:17|\n",
      "|   156|false|2018-11-26 15:49:14|\n",
      "+------+-----+-------------------+\n",
      "\n"
     ]
    }
   ],
   "source": [
    "df.where(df.registration_ts > min_timestamp).select('userId', 'churn', 'registration_ts').distinct().show()"
   ]
  },
  {
   "cell_type": "markdown",
   "metadata": {},
   "source": [
    "Interestingly there are 5 users that did register during the event period! It's small enough that it probably won't affect the model but it's nice to know. Now we can compare churn/non-churn user age."
   ]
  },
  {
   "cell_type": "code",
   "execution_count": 27,
   "metadata": {},
   "outputs": [],
   "source": [
    "max_user_ages = df.select('userid', 'churn', sf.datediff(df.timestamp, df.registration_ts).alias('age')) \\\n",
    "                                    .groupby('userid', 'churn').max()"
   ]
  },
  {
   "cell_type": "code",
   "execution_count": 30,
   "metadata": {},
   "outputs": [
    {
     "name": "stdout",
     "output_type": "stream",
     "text": [
      "+-----+-----------------+\n",
      "|churn|    avg(max(age))|\n",
      "+-----+-----------------+\n",
      "| true|57.36538461538461|\n",
      "|false|86.56647398843931|\n",
      "+-----+-----------------+\n",
      "\n"
     ]
    }
   ],
   "source": [
    "max_user_ages.groupby('churn').mean().show()"
   ]
  },
  {
   "cell_type": "markdown",
   "metadata": {},
   "source": [
    "Seems like churned users tend to have been around for less time, interesting! Now let's move on to comparing counts of different kinds of event for churn/non-churn users. We will start with song plays."
   ]
  },
  {
   "cell_type": "code",
   "execution_count": 82,
   "metadata": {},
   "outputs": [
    {
     "data": {
      "image/png": "[encoded data removed]",
      "text/plain": [
       "<Figure size 576x432 with 1 Axes>"
      ]
     },
     "metadata": {
      "needs_background": "light"
     },
     "output_type": "display_data"
    }
   ],
   "source": [
    "plt.figure(figsize=(8, 6))\n",
    "no_churn_song_counts = plot_field_count_dist(df.where(~df.churn), 'userId', page='NextSong')\n",
    "churn_song_counts = plot_field_count_dist(df.where(df.churn), 'userId', page='NextSong')"
   ]
  },
  {
   "cell_type": "code",
   "execution_count": 83,
   "metadata": {},
   "outputs": [
    {
     "data": {
      "text/html": [
       "<div>\n",
       "<style scoped>\n",
       "    .dataframe tbody tr th:only-of-type {\n",
       "        vertical-align: middle;\n",
       "    }\n",
       "\n",
       "    .dataframe tbody tr th {\n",
       "        vertical-align: top;\n",
       "    }\n",
       "\n",
       "    .dataframe thead th {\n",
       "        text-align: right;\n",
       "    }\n",
       "</style>\n",
       "<table border=\"1\" class=\"dataframe\">\n",
       "  <thead>\n",
       "    <tr style=\"text-align: right;\">\n",
       "      <th></th>\n",
       "      <th>count</th>\n",
       "    </tr>\n",
       "  </thead>\n",
       "  <tbody>\n",
       "    <tr>\n",
       "      <th>count</th>\n",
       "      <td>52.000000</td>\n",
       "    </tr>\n",
       "    <tr>\n",
       "      <th>mean</th>\n",
       "      <td>699.884615</td>\n",
       "    </tr>\n",
       "    <tr>\n",
       "      <th>std</th>\n",
       "      <td>714.737650</td>\n",
       "    </tr>\n",
       "    <tr>\n",
       "      <th>min</th>\n",
       "      <td>8.000000</td>\n",
       "    </tr>\n",
       "    <tr>\n",
       "      <th>25%</th>\n",
       "      <td>148.750000</td>\n",
       "    </tr>\n",
       "    <tr>\n",
       "      <th>50%</th>\n",
       "      <td>452.500000</td>\n",
       "    </tr>\n",
       "    <tr>\n",
       "      <th>75%</th>\n",
       "      <td>963.500000</td>\n",
       "    </tr>\n",
       "    <tr>\n",
       "      <th>max</th>\n",
       "      <td>3028.000000</td>\n",
       "    </tr>\n",
       "  </tbody>\n",
       "</table>\n",
       "</div>"
      ],
      "text/plain": [
       "             count\n",
       "count    52.000000\n",
       "mean    699.884615\n",
       "std     714.737650\n",
       "min       8.000000\n",
       "25%     148.750000\n",
       "50%     452.500000\n",
       "75%     963.500000\n",
       "max    3028.000000"
      ]
     },
     "execution_count": 83,
     "metadata": {},
     "output_type": "execute_result"
    }
   ],
   "source": [
    "churn_song_counts.describe()"
   ]
  },
  {
   "cell_type": "code",
   "execution_count": 84,
   "metadata": {
    "scrolled": true
   },
   "outputs": [
    {
     "data": {
      "text/html": [
       "<div>\n",
       "<style scoped>\n",
       "    .dataframe tbody tr th:only-of-type {\n",
       "        vertical-align: middle;\n",
       "    }\n",
       "\n",
       "    .dataframe tbody tr th {\n",
       "        vertical-align: top;\n",
       "    }\n",
       "\n",
       "    .dataframe thead th {\n",
       "        text-align: right;\n",
       "    }\n",
       "</style>\n",
       "<table border=\"1\" class=\"dataframe\">\n",
       "  <thead>\n",
       "    <tr style=\"text-align: right;\">\n",
       "      <th></th>\n",
       "      <th>count</th>\n",
       "    </tr>\n",
       "  </thead>\n",
       "  <tbody>\n",
       "    <tr>\n",
       "      <th>count</th>\n",
       "      <td>173.000000</td>\n",
       "    </tr>\n",
       "    <tr>\n",
       "      <th>mean</th>\n",
       "      <td>1108.173410</td>\n",
       "    </tr>\n",
       "    <tr>\n",
       "      <th>std</th>\n",
       "      <td>1183.146703</td>\n",
       "    </tr>\n",
       "    <tr>\n",
       "      <th>min</th>\n",
       "      <td>3.000000</td>\n",
       "    </tr>\n",
       "    <tr>\n",
       "      <th>25%</th>\n",
       "      <td>251.000000</td>\n",
       "    </tr>\n",
       "    <tr>\n",
       "      <th>50%</th>\n",
       "      <td>747.000000</td>\n",
       "    </tr>\n",
       "    <tr>\n",
       "      <th>75%</th>\n",
       "      <td>1640.000000</td>\n",
       "    </tr>\n",
       "    <tr>\n",
       "      <th>max</th>\n",
       "      <td>8002.000000</td>\n",
       "    </tr>\n",
       "  </tbody>\n",
       "</table>\n",
       "</div>"
      ],
      "text/plain": [
       "             count\n",
       "count   173.000000\n",
       "mean   1108.173410\n",
       "std    1183.146703\n",
       "min       3.000000\n",
       "25%     251.000000\n",
       "50%     747.000000\n",
       "75%    1640.000000\n",
       "max    8002.000000"
      ]
     },
     "execution_count": 84,
     "metadata": {},
     "output_type": "execute_result"
    }
   ],
   "source": [
    "no_churn_song_counts.describe()"
   ]
  },
  {
   "cell_type": "markdown",
   "metadata": {},
   "source": [
    "Seems like churned users have a fewer songs played on average."
   ]
  },
  {
   "cell_type": "code",
   "execution_count": 98,
   "metadata": {},
   "outputs": [
    {
     "data": {
      "image/png": "[encoded data removed]",
      "text/plain": [
       "<Figure size 576x432 with 1 Axes>"
      ]
     },
     "metadata": {
      "needs_background": "light"
     },
     "output_type": "display_data"
    }
   ],
   "source": [
    "plt.figure(figsize=(8, 6))\n",
    "_ = plot_field_count_dist(df.where(~df.churn), 'sessionId', page='NextSong')\n",
    "_ = plot_field_count_dist(df.where(df.churn), 'sessionId', page='NextSong')"
   ]
  },
  {
   "cell_type": "markdown",
   "metadata": {},
   "source": [
    "Taking a look at session counts it seems like churned users also have fewer sessions! Let's try to compute some event type averages by user and by session. First let's look at the number of users and sessions in each group."
   ]
  },
  {
   "cell_type": "code",
   "execution_count": 110,
   "metadata": {
    "scrolled": true
   },
   "outputs": [
    {
     "data": {
      "text/html": [
       "<div>\n",
       "<style scoped>\n",
       "    .dataframe tbody tr th:only-of-type {\n",
       "        vertical-align: middle;\n",
       "    }\n",
       "\n",
       "    .dataframe tbody tr th {\n",
       "        vertical-align: top;\n",
       "    }\n",
       "\n",
       "    .dataframe thead th {\n",
       "        text-align: right;\n",
       "    }\n",
       "</style>\n",
       "<table border=\"1\" class=\"dataframe\">\n",
       "  <thead>\n",
       "    <tr style=\"text-align: right;\">\n",
       "      <th></th>\n",
       "      <th>churn</th>\n",
       "      <th>user_count</th>\n",
       "      <th>session_count</th>\n",
       "    </tr>\n",
       "  </thead>\n",
       "  <tbody>\n",
       "    <tr>\n",
       "      <th>0</th>\n",
       "      <td>True</td>\n",
       "      <td>52</td>\n",
       "      <td>468</td>\n",
       "    </tr>\n",
       "    <tr>\n",
       "      <th>1</th>\n",
       "      <td>False</td>\n",
       "      <td>173</td>\n",
       "      <td>2110</td>\n",
       "    </tr>\n",
       "  </tbody>\n",
       "</table>\n",
       "</div>"
      ],
      "text/plain": [
       "   churn  user_count  session_count\n",
       "0   True          52            468\n",
       "1  False         173           2110"
      ]
     },
     "execution_count": 110,
     "metadata": {},
     "output_type": "execute_result"
    }
   ],
   "source": [
    "churn_counts = df.groupby('churn').agg(sf.countDistinct('userId'), sf.countDistinct('sessionId')).toPandas()\n",
    "churn_counts.columns = ['churn', 'user_count', 'session_count']\n",
    "churn_counts"
   ]
  },
  {
   "cell_type": "markdown",
   "metadata": {},
   "source": [
    "Now we'll get some counts that will be useful for the next section."
   ]
  },
  {
   "cell_type": "code",
   "execution_count": 111,
   "metadata": {},
   "outputs": [],
   "source": [
    "by_churn_event_counts = df.groupby(['churn', 'page']).count().toPandas()"
   ]
  },
  {
   "cell_type": "code",
   "execution_count": 112,
   "metadata": {},
   "outputs": [],
   "source": [
    "by_churn_counts = by_churn_event_counts.merge(churn_counts, on='churn')"
   ]
  },
  {
   "cell_type": "code",
   "execution_count": 113,
   "metadata": {
    "scrolled": false
   },
   "outputs": [
    {
     "data": {
      "text/html": [
       "<div>\n",
       "<style scoped>\n",
       "    .dataframe tbody tr th:only-of-type {\n",
       "        vertical-align: middle;\n",
       "    }\n",
       "\n",
       "    .dataframe tbody tr th {\n",
       "        vertical-align: top;\n",
       "    }\n",
       "\n",
       "    .dataframe thead th {\n",
       "        text-align: right;\n",
       "    }\n",
       "</style>\n",
       "<table border=\"1\" class=\"dataframe\">\n",
       "  <thead>\n",
       "    <tr style=\"text-align: right;\">\n",
       "      <th></th>\n",
       "      <th>churn</th>\n",
       "      <th>page</th>\n",
       "      <th>count</th>\n",
       "      <th>user_count</th>\n",
       "      <th>session_count</th>\n",
       "    </tr>\n",
       "  </thead>\n",
       "  <tbody>\n",
       "    <tr>\n",
       "      <th>0</th>\n",
       "      <td>False</td>\n",
       "      <td>Save Settings</td>\n",
       "      <td>252</td>\n",
       "      <td>173</td>\n",
       "      <td>2110</td>\n",
       "    </tr>\n",
       "    <tr>\n",
       "      <th>1</th>\n",
       "      <td>False</td>\n",
       "      <td>Submit Downgrade</td>\n",
       "      <td>54</td>\n",
       "      <td>173</td>\n",
       "      <td>2110</td>\n",
       "    </tr>\n",
       "    <tr>\n",
       "      <th>2</th>\n",
       "      <td>False</td>\n",
       "      <td>NextSong</td>\n",
       "      <td>191714</td>\n",
       "      <td>173</td>\n",
       "      <td>2110</td>\n",
       "    </tr>\n",
       "    <tr>\n",
       "      <th>3</th>\n",
       "      <td>False</td>\n",
       "      <td>Add Friend</td>\n",
       "      <td>3641</td>\n",
       "      <td>173</td>\n",
       "      <td>2110</td>\n",
       "    </tr>\n",
       "    <tr>\n",
       "      <th>4</th>\n",
       "      <td>False</td>\n",
       "      <td>Error</td>\n",
       "      <td>220</td>\n",
       "      <td>173</td>\n",
       "      <td>2110</td>\n",
       "    </tr>\n",
       "  </tbody>\n",
       "</table>\n",
       "</div>"
      ],
      "text/plain": [
       "   churn              page   count  user_count  session_count\n",
       "0  False     Save Settings     252         173           2110\n",
       "1  False  Submit Downgrade      54         173           2110\n",
       "2  False          NextSong  191714         173           2110\n",
       "3  False        Add Friend    3641         173           2110\n",
       "4  False             Error     220         173           2110"
      ]
     },
     "execution_count": 113,
     "metadata": {},
     "output_type": "execute_result"
    }
   ],
   "source": [
    "by_churn_counts.head()"
   ]
  },
  {
   "cell_type": "markdown",
   "metadata": {},
   "source": [
    "With those counts we can get session normalized and user normalized event counts, useful to compare churned and non-churned users."
   ]
  },
  {
   "cell_type": "code",
   "execution_count": 114,
   "metadata": {},
   "outputs": [],
   "source": [
    "by_churn_counts = by_churn_counts[~by_churn_counts.page.isin(['Cancellation Confirmation', 'Cancel'])]"
   ]
  },
  {
   "cell_type": "code",
   "execution_count": 115,
   "metadata": {},
   "outputs": [],
   "source": [
    "by_churn_counts['user_normalized'] = by_churn_counts['count'] / by_churn_counts['user_count']\n",
    "by_churn_counts['session_normalized'] = by_churn_counts['count'] / by_churn_counts['session_count']"
   ]
  },
  {
   "cell_type": "code",
   "execution_count": 116,
   "metadata": {
    "scrolled": true
   },
   "outputs": [
    {
     "data": {
      "text/html": [
       "<div>\n",
       "<style scoped>\n",
       "    .dataframe tbody tr th:only-of-type {\n",
       "        vertical-align: middle;\n",
       "    }\n",
       "\n",
       "    .dataframe tbody tr th {\n",
       "        vertical-align: top;\n",
       "    }\n",
       "\n",
       "    .dataframe thead th {\n",
       "        text-align: right;\n",
       "    }\n",
       "</style>\n",
       "<table border=\"1\" class=\"dataframe\">\n",
       "  <thead>\n",
       "    <tr style=\"text-align: right;\">\n",
       "      <th></th>\n",
       "      <th>churn</th>\n",
       "      <th>page</th>\n",
       "      <th>user_normalized</th>\n",
       "      <th>session_normalized</th>\n",
       "    </tr>\n",
       "  </thead>\n",
       "  <tbody>\n",
       "    <tr>\n",
       "      <th>6</th>\n",
       "      <td>False</td>\n",
       "      <td>About</td>\n",
       "      <td>2.537572</td>\n",
       "      <td>0.208057</td>\n",
       "    </tr>\n",
       "    <tr>\n",
       "      <th>32</th>\n",
       "      <td>True</td>\n",
       "      <td>About</td>\n",
       "      <td>1.076923</td>\n",
       "      <td>0.119658</td>\n",
       "    </tr>\n",
       "    <tr>\n",
       "      <th>3</th>\n",
       "      <td>False</td>\n",
       "      <td>Add Friend</td>\n",
       "      <td>21.046243</td>\n",
       "      <td>1.725592</td>\n",
       "    </tr>\n",
       "    <tr>\n",
       "      <th>29</th>\n",
       "      <td>True</td>\n",
       "      <td>Add Friend</td>\n",
       "      <td>12.230769</td>\n",
       "      <td>1.358974</td>\n",
       "    </tr>\n",
       "    <tr>\n",
       "      <th>5</th>\n",
       "      <td>False</td>\n",
       "      <td>Add to Playlist</td>\n",
       "      <td>31.722543</td>\n",
       "      <td>2.600948</td>\n",
       "    </tr>\n",
       "    <tr>\n",
       "      <th>23</th>\n",
       "      <td>True</td>\n",
       "      <td>Add to Playlist</td>\n",
       "      <td>19.961538</td>\n",
       "      <td>2.217949</td>\n",
       "    </tr>\n",
       "    <tr>\n",
       "      <th>15</th>\n",
       "      <td>False</td>\n",
       "      <td>Downgrade</td>\n",
       "      <td>9.930636</td>\n",
       "      <td>0.814218</td>\n",
       "    </tr>\n",
       "    <tr>\n",
       "      <th>30</th>\n",
       "      <td>True</td>\n",
       "      <td>Downgrade</td>\n",
       "      <td>6.480769</td>\n",
       "      <td>0.720085</td>\n",
       "    </tr>\n",
       "    <tr>\n",
       "      <th>4</th>\n",
       "      <td>False</td>\n",
       "      <td>Error</td>\n",
       "      <td>1.271676</td>\n",
       "      <td>0.104265</td>\n",
       "    </tr>\n",
       "    <tr>\n",
       "      <th>35</th>\n",
       "      <td>True</td>\n",
       "      <td>Error</td>\n",
       "      <td>0.615385</td>\n",
       "      <td>0.068376</td>\n",
       "    </tr>\n",
       "    <tr>\n",
       "      <th>9</th>\n",
       "      <td>False</td>\n",
       "      <td>Help</td>\n",
       "      <td>7.023121</td>\n",
       "      <td>0.575829</td>\n",
       "    </tr>\n",
       "    <tr>\n",
       "      <th>28</th>\n",
       "      <td>True</td>\n",
       "      <td>Help</td>\n",
       "      <td>4.596154</td>\n",
       "      <td>0.510684</td>\n",
       "    </tr>\n",
       "    <tr>\n",
       "      <th>13</th>\n",
       "      <td>False</td>\n",
       "      <td>Home</td>\n",
       "      <td>48.612717</td>\n",
       "      <td>3.985782</td>\n",
       "    </tr>\n",
       "    <tr>\n",
       "      <th>25</th>\n",
       "      <td>True</td>\n",
       "      <td>Home</td>\n",
       "      <td>32.153846</td>\n",
       "      <td>3.572650</td>\n",
       "    </tr>\n",
       "    <tr>\n",
       "      <th>12</th>\n",
       "      <td>False</td>\n",
       "      <td>Logout</td>\n",
       "      <td>15.450867</td>\n",
       "      <td>1.266825</td>\n",
       "    </tr>\n",
       "    <tr>\n",
       "      <th>17</th>\n",
       "      <td>True</td>\n",
       "      <td>Logout</td>\n",
       "      <td>10.634615</td>\n",
       "      <td>1.181624</td>\n",
       "    </tr>\n",
       "    <tr>\n",
       "      <th>2</th>\n",
       "      <td>False</td>\n",
       "      <td>NextSong</td>\n",
       "      <td>1108.173410</td>\n",
       "      <td>90.859716</td>\n",
       "    </tr>\n",
       "    <tr>\n",
       "      <th>24</th>\n",
       "      <td>True</td>\n",
       "      <td>NextSong</td>\n",
       "      <td>699.884615</td>\n",
       "      <td>77.764957</td>\n",
       "    </tr>\n",
       "    <tr>\n",
       "      <th>10</th>\n",
       "      <td>False</td>\n",
       "      <td>Roll Advert</td>\n",
       "      <td>17.144509</td>\n",
       "      <td>1.405687</td>\n",
       "    </tr>\n",
       "    <tr>\n",
       "      <th>19</th>\n",
       "      <td>True</td>\n",
       "      <td>Roll Advert</td>\n",
       "      <td>18.596154</td>\n",
       "      <td>2.066239</td>\n",
       "    </tr>\n",
       "    <tr>\n",
       "      <th>0</th>\n",
       "      <td>False</td>\n",
       "      <td>Save Settings</td>\n",
       "      <td>1.456647</td>\n",
       "      <td>0.119431</td>\n",
       "    </tr>\n",
       "    <tr>\n",
       "      <th>18</th>\n",
       "      <td>True</td>\n",
       "      <td>Save Settings</td>\n",
       "      <td>1.115385</td>\n",
       "      <td>0.123932</td>\n",
       "    </tr>\n",
       "    <tr>\n",
       "      <th>11</th>\n",
       "      <td>False</td>\n",
       "      <td>Settings</td>\n",
       "      <td>7.190751</td>\n",
       "      <td>0.589573</td>\n",
       "    </tr>\n",
       "    <tr>\n",
       "      <th>20</th>\n",
       "      <td>True</td>\n",
       "      <td>Settings</td>\n",
       "      <td>5.192308</td>\n",
       "      <td>0.576923</td>\n",
       "    </tr>\n",
       "    <tr>\n",
       "      <th>1</th>\n",
       "      <td>False</td>\n",
       "      <td>Submit Downgrade</td>\n",
       "      <td>0.312139</td>\n",
       "      <td>0.025592</td>\n",
       "    </tr>\n",
       "    <tr>\n",
       "      <th>27</th>\n",
       "      <td>True</td>\n",
       "      <td>Submit Downgrade</td>\n",
       "      <td>0.173077</td>\n",
       "      <td>0.019231</td>\n",
       "    </tr>\n",
       "    <tr>\n",
       "      <th>16</th>\n",
       "      <td>False</td>\n",
       "      <td>Submit Upgrade</td>\n",
       "      <td>0.734104</td>\n",
       "      <td>0.060190</td>\n",
       "    </tr>\n",
       "    <tr>\n",
       "      <th>21</th>\n",
       "      <td>True</td>\n",
       "      <td>Submit Upgrade</td>\n",
       "      <td>0.615385</td>\n",
       "      <td>0.068376</td>\n",
       "    </tr>\n",
       "    <tr>\n",
       "      <th>8</th>\n",
       "      <td>False</td>\n",
       "      <td>Thumbs Down</td>\n",
       "      <td>11.849711</td>\n",
       "      <td>0.971564</td>\n",
       "    </tr>\n",
       "    <tr>\n",
       "      <th>33</th>\n",
       "      <td>True</td>\n",
       "      <td>Thumbs Down</td>\n",
       "      <td>9.538462</td>\n",
       "      <td>1.059829</td>\n",
       "    </tr>\n",
       "    <tr>\n",
       "      <th>7</th>\n",
       "      <td>False</td>\n",
       "      <td>Thumbs Up</td>\n",
       "      <td>61.803468</td>\n",
       "      <td>5.067299</td>\n",
       "    </tr>\n",
       "    <tr>\n",
       "      <th>34</th>\n",
       "      <td>True</td>\n",
       "      <td>Thumbs Up</td>\n",
       "      <td>35.750000</td>\n",
       "      <td>3.972222</td>\n",
       "    </tr>\n",
       "    <tr>\n",
       "      <th>14</th>\n",
       "      <td>False</td>\n",
       "      <td>Upgrade</td>\n",
       "      <td>2.236994</td>\n",
       "      <td>0.183412</td>\n",
       "    </tr>\n",
       "    <tr>\n",
       "      <th>26</th>\n",
       "      <td>True</td>\n",
       "      <td>Upgrade</td>\n",
       "      <td>2.153846</td>\n",
       "      <td>0.239316</td>\n",
       "    </tr>\n",
       "  </tbody>\n",
       "</table>\n",
       "</div>"
      ],
      "text/plain": [
       "    churn              page  user_normalized  session_normalized\n",
       "6   False             About         2.537572            0.208057\n",
       "32   True             About         1.076923            0.119658\n",
       "3   False        Add Friend        21.046243            1.725592\n",
       "29   True        Add Friend        12.230769            1.358974\n",
       "5   False   Add to Playlist        31.722543            2.600948\n",
       "23   True   Add to Playlist        19.961538            2.217949\n",
       "15  False         Downgrade         9.930636            0.814218\n",
       "30   True         Downgrade         6.480769            0.720085\n",
       "4   False             Error         1.271676            0.104265\n",
       "35   True             Error         0.615385            0.068376\n",
       "9   False              Help         7.023121            0.575829\n",
       "28   True              Help         4.596154            0.510684\n",
       "13  False              Home        48.612717            3.985782\n",
       "25   True              Home        32.153846            3.572650\n",
       "12  False            Logout        15.450867            1.266825\n",
       "17   True            Logout        10.634615            1.181624\n",
       "2   False          NextSong      1108.173410           90.859716\n",
       "24   True          NextSong       699.884615           77.764957\n",
       "10  False       Roll Advert        17.144509            1.405687\n",
       "19   True       Roll Advert        18.596154            2.066239\n",
       "0   False     Save Settings         1.456647            0.119431\n",
       "18   True     Save Settings         1.115385            0.123932\n",
       "11  False          Settings         7.190751            0.589573\n",
       "20   True          Settings         5.192308            0.576923\n",
       "1   False  Submit Downgrade         0.312139            0.025592\n",
       "27   True  Submit Downgrade         0.173077            0.019231\n",
       "16  False    Submit Upgrade         0.734104            0.060190\n",
       "21   True    Submit Upgrade         0.615385            0.068376\n",
       "8   False       Thumbs Down        11.849711            0.971564\n",
       "33   True       Thumbs Down         9.538462            1.059829\n",
       "7   False         Thumbs Up        61.803468            5.067299\n",
       "34   True         Thumbs Up        35.750000            3.972222\n",
       "14  False           Upgrade         2.236994            0.183412\n",
       "26   True           Upgrade         2.153846            0.239316"
      ]
     },
     "execution_count": 116,
     "metadata": {},
     "output_type": "execute_result"
    }
   ],
   "source": [
    "by_churn_counts[['churn', 'page', 'user_normalized', 'session_normalized']].sort_values(by=['page', 'churn'])"
   ]
  },
  {
   "cell_type": "markdown",
   "metadata": {},
   "source": [
    "Now first we can take a look at the user counts:"
   ]
  },
  {
   "cell_type": "code",
   "execution_count": 117,
   "metadata": {},
   "outputs": [
    {
     "data": {
      "text/plain": [
       "(array([ 0,  1,  2,  3,  4,  5,  6,  7,  8,  9, 10, 11, 12, 13, 14, 15, 16]),\n",
       " <a list of 17 Text xticklabel objects>)"
      ]
     },
     "execution_count": 117,
     "metadata": {},
     "output_type": "execute_result"
    },
    {
     "data": {
      "image/png": "[encoded data removed]",
      "text/plain": [
       "<Figure size 864x720 with 1 Axes>"
      ]
     },
     "metadata": {
      "needs_background": "light"
     },
     "output_type": "display_data"
    }
   ],
   "source": [
    "event_subset = []\n",
    "\n",
    "plt.figure(figsize=(12,10))\n",
    "sns.barplot(x='page',\n",
    "            y='user_normalized',\n",
    "            hue='churn',\n",
    "            data=by_churn_counts)\n",
    "plt.xticks(rotation=30, ha=\"right\")"
   ]
  },
  {
   "cell_type": "markdown",
   "metadata": {},
   "source": [
    "Well, it seems like the churned users have fewer events in general as we knew already. Interestingly, the churned users have WAY fewer songs, and MORE ads by a teeny fraction. On to the per session averages."
   ]
  },
  {
   "cell_type": "code",
   "execution_count": 118,
   "metadata": {},
   "outputs": [
    {
     "data": {
      "text/plain": [
       "(array([ 0,  1,  2,  3,  4,  5,  6,  7,  8,  9, 10, 11, 12, 13, 14, 15, 16]),\n",
       " <a list of 17 Text xticklabel objects>)"
      ]
     },
     "execution_count": 118,
     "metadata": {},
     "output_type": "execute_result"
    },
    {
     "data": {
      "image/png": "[encoded data removed]",
      "text/plain": [
       "<Figure size 864x720 with 1 Axes>"
      ]
     },
     "metadata": {
      "needs_background": "light"
     },
     "output_type": "display_data"
    }
   ],
   "source": [
    "plt.figure(figsize=(12,10))\n",
    "sns.barplot(x='page',\n",
    "            y='session_normalized',\n",
    "            hue='churn',\n",
    "            data=by_churn_counts)\n",
    "plt.xticks(rotation=30, ha=\"right\")"
   ]
  },
  {
   "cell_type": "markdown",
   "metadata": {},
   "source": [
    "The per session averages look similar to the per user - except the difference in ad views per session is more obvious. Let's see if we can get a better vizualization of this phenomenon."
   ]
  },
  {
   "cell_type": "code",
   "execution_count": 119,
   "metadata": {},
   "outputs": [],
   "source": [
    "def plot_relative(df, col):\n",
    "    df_2 = df.pivot(index='page', columns='churn', values=col)\n",
    "    \n",
    "    plot_df = (df_2[True] - df_2[False]).divide(df_2[False]) + 1\n",
    "    \n",
    "    ax = sns.barplot(x=plot_df.index, \n",
    "                    y=plot_df, \n",
    "                    color= '#6699ff')\n",
    "    ax.axhline(1, ls='--')\n"
   ]
  },
  {
   "cell_type": "markdown",
   "metadata": {},
   "source": [
    "This function will give a plot of the relative value of the churn vs non-churn users, 1 is identical to the churned users."
   ]
  },
  {
   "cell_type": "code",
   "execution_count": 120,
   "metadata": {
    "scrolled": false
   },
   "outputs": [
    {
     "data": {
      "text/plain": [
       "(array([ 0,  1,  2,  3,  4,  5,  6,  7,  8,  9, 10, 11, 12, 13, 14, 15, 16]),\n",
       " <a list of 17 Text xticklabel objects>)"
      ]
     },
     "execution_count": 120,
     "metadata": {},
     "output_type": "execute_result"
    },
    {
     "data": {
      "image/png": "[encoded data removed]",
      "text/plain": [
       "<Figure size 864x576 with 1 Axes>"
      ]
     },
     "metadata": {
      "needs_background": "light"
     },
     "output_type": "display_data"
    }
   ],
   "source": [
    "plt.figure(figsize=(12,8))\n",
    "plot_relative(by_churn_counts, 'user_normalized')\n",
    "plt.xticks(rotation=30, ha=\"right\")"
   ]
  },
  {
   "cell_type": "markdown",
   "metadata": {},
   "source": [
    "This shows the pattern in a way easier to understand vizual. Lower almost accross the board except for ads!"
   ]
  },
  {
   "cell_type": "code",
   "execution_count": 124,
   "metadata": {
    "scrolled": false
   },
   "outputs": [
    {
     "data": {
      "text/plain": [
       "(array([ 0,  1,  2,  3,  4,  5,  6,  7,  8,  9, 10, 11, 12, 13, 14, 15, 16]),\n",
       " <a list of 17 Text xticklabel objects>)"
      ]
     },
     "execution_count": 124,
     "metadata": {},
     "output_type": "execute_result"
    },
    {
     "data": {
      "image/png": "[encoded data removed]",
      "text/plain": [
       "<Figure size 864x576 with 1 Axes>"
      ]
     },
     "metadata": {
      "needs_background": "light"
     },
     "output_type": "display_data"
    }
   ],
   "source": [
    "plt.figure(figsize=(12,8))\n",
    "plot_relative(by_churn_counts, 'session_normalized')\n",
    "plt.xticks(rotation=30, ha=\"right\")"
   ]
  },
  {
   "cell_type": "markdown",
   "metadata": {},
   "source": [
    "The session normalized one is even more interesting! There might be a few patterns here that are useful to distinguish the users between churn and non-churn. Especially the slightly higher thumbs down and much higher roll ads."
   ]
  },
  {
   "cell_type": "markdown",
   "metadata": {},
   "source": [
    "### Exploration Takeaways\n",
    "\n",
    "We can sum up what we found with a few high level takeaways:\n",
    "\n",
    "* Churned users decrease activity over time.\n",
    "* Churned users have lower session counts and activity in general.\n",
    "* Churned users tend to be younger accounts.\n",
    "* Churned users likely have more ads per session.\n",
    "\n",
    "We can use these findings to make some useful features for classification!"
   ]
  },
  {
   "cell_type": "markdown",
   "metadata": {},
   "source": [
    "# Feature Engineering\n",
    "Now that we've found some patterns in the data we are goint to write a short script that can clean the raw data and then extract some features. To start we take some cleaning steps taken during the exploration so it's easy to restart if needed."
   ]
  },
  {
   "cell_type": "code",
   "execution_count": 7,
   "metadata": {},
   "outputs": [],
   "source": [
    "def convert_ms(x):\n",
    "    \"\"\"Converts given ns to ms\"\"\"\n",
    "    if x is None:\n",
    "        return None\n",
    "    \n",
    "    return x//1000\n",
    "\n",
    "convert_ms_udf = sf.udf(convert_ms, st.LongType())"
   ]
  },
  {
   "cell_type": "code",
   "execution_count": 43,
   "metadata": {},
   "outputs": [],
   "source": [
    "def clean_df(df_raw):\n",
    "    \"\"\"\n",
    "    Takes in a raw events dataframe, makes a few extra columns and cleans it.\n",
    "    \"\"\"\n",
    "    \n",
    "    # Remove bad userIds\n",
    "    df = df_raw.filter(df_raw.userId != \"\")\n",
    "    df.persist()\n",
    "    \n",
    "    # Clean time columns\n",
    "    df = df.withColumn('timestamp', convert_ms_udf(df.ts).cast('timestamp'))\n",
    "    df = df.withColumn('registration_ts', convert_ms_udf(df.registration).cast('timestamp'))\n",
    "    \n",
    "    return df"
   ]
  },
  {
   "cell_type": "code",
   "execution_count": null,
   "metadata": {},
   "outputs": [],
   "source": [
    "# after reading in the df just running this cell catches up with the exploration\n",
    "df = clean_df(df_raw)\n",
    "\n",
    "pages = df.select('page').distinct().sort('page')\n",
    "pages_list = [r.page for r in pages.collect()]"
   ]
  },
  {
   "cell_type": "markdown",
   "metadata": {},
   "source": [
    "Now we've got the clean data, we can move on to engineering some features. I'm going to step through some example parts of the code to explain what the feature is before we get to the whole function. The snippets won't contain everything, just the essential bits to understand a feature. The full code is at the end in the `get_feature_df` function."
   ]
  },
  {
   "cell_type": "markdown",
   "metadata": {},
   "source": [
    "### Number of sessions\n",
    "The first feature is simple, the number of sessions for each user.\n",
    "```\n",
    "session_counts = df.groupby('userId').agg(sf.countDistinct('sessionId').alias('session_count'))\n",
    "```"
   ]
  },
  {
   "cell_type": "markdown",
   "metadata": {},
   "source": [
    "### Session-normalized user event averages\n",
    "As we saw in the final step of the exploration, we can distinguish users based on their average event counts per session. That's what this feature is, we will use the `Cancellation Confirmation` as the label. First we have to get a column for each event count which can be accomplished easily with pivot:\n",
    "```\n",
    "pages_list = [r.page for r in pages.collect()]\n",
    "drop_events = ['Cancel']\n",
    "\n",
    "feat_df = df.groupby('userId').pivot('page', pages_list).count()\n",
    "feat_df = feat_df.withColumnRenamed('Cancellation Confirmation', 'churn')\n",
    "feat_df = feat_df.drop(*drop_events).fillna(0)\n",
    "```\n",
    "\n",
    "This code accomplished a few other things, like providing the events as a list to speed up the function and filling all missing counts with 0.\n",
    "\n",
    "To finish up we will session normalize the remaining columns:\n",
    "```\n",
    "remaining_cols = sorted(list(set(feat_df.columns) - ignore_cols))\n",
    "for column in remaining_cols:\n",
    "    feat_df = feat_df.withColumn(column, sf.col(column) / feat_df.session_count)\n",
    "```"
   ]
  },
  {
   "cell_type": "markdown",
   "metadata": {},
   "source": [
    "### Account ages\n",
    "This one is pretty simple - similar to exploration we will calculate the account ages.\n",
    "```\n",
    " max_timestamp = df.agg(sf.max('timestamp')).first()[0]\n",
    " account_ages = df.select('userId', \n",
    "                       sf.datediff(sf.lit(max_timestamp), df.registration_ts).alias('account_age')).distinct()\n",
    "```"
   ]
  },
  {
   "cell_type": "markdown",
   "metadata": {},
   "source": [
    "### Weekly Song Counts\n",
    "We saw earlier that churned users tended to have less activity as time went on. SQL like implementations provide an easy way for us to turn that into a bunch of features:\n",
    "\n",
    "\n",
    "```\n",
    "week_counts = df.where(df.page=='NextSong') \\\n",
    "                .groupby('userId', sf.date_trunc('week', 'timestamp').cast('date').alias('week')).count() \\\n",
    "                .groupby('userId').pivot('week').sum().fillna(0)\n",
    "                ```\n",
    "                \n",
    "This will result in a bunch of columns like `2018-11-26` that show the number of songs listened to that week."
   ]
  },
  {
   "cell_type": "markdown",
   "metadata": {},
   "source": [
    "### Gender\n",
    "\n",
    "Finally I encoded the gender as a feature.\n",
    "```\n",
    "genders = df.select('userId', sf.when(sf.col('gender')=='F', 0).otherwise(1).alias('genders')).distinct()\n",
    "```"
   ]
  },
  {
   "cell_type": "markdown",
   "metadata": {},
   "source": [
    "Now we have to put it all together. This function also contains the vector assembler, so there is some extra code to keep track of column names."
   ]
  },
  {
   "cell_type": "code",
   "execution_count": 125,
   "metadata": {},
   "outputs": [],
   "source": [
    "def get_feature_df(df):\n",
    "    \"\"\"Takes in a cleaned event dataframe and returns a feature dataframe\"\"\"\n",
    "    \n",
    "    # List of columns to include in the vector\n",
    "    vector_cols = []\n",
    "    \n",
    "    # Session counts\n",
    "    session_counts = df.groupby('userId').agg(sf.countDistinct('sessionId').alias('session_count'))\n",
    "    vector_cols.append('session_count')\n",
    "    \n",
    "    # Page list and events to ignore\n",
    "    pages_list = [r.page for r in pages.collect()]\n",
    "    drop_events = ['Cancel']\n",
    "    \n",
    "    # Get the event counts\n",
    "    feat_df = df.groupby('userId').pivot('page', pages_list).count()\n",
    "    feat_df = feat_df.withColumnRenamed('Cancellation Confirmation', 'churn')\n",
    "    feat_df = feat_df.drop(*drop_events).fillna(0)\n",
    "    \n",
    "    feat_df = feat_df.join(session_counts, on='userId')\n",
    "    \n",
    "    # Normalize by session count\n",
    "    ignore_cols = {'userId', 'session_count', 'churn'}\n",
    "    remaining_cols = sorted(list(set(feat_df.columns) - ignore_cols))\n",
    "    for column in remaining_cols:\n",
    "        feat_df = feat_df.withColumn(column, sf.col(column) / feat_df.session_count)\n",
    "    vector_cols.extend(remaining_cols)\n",
    "    \n",
    "    # Account ages\n",
    "    max_timestamp = df.agg(sf.max('timestamp')).first()[0]\n",
    "    account_ages = df.select('userId', \n",
    "                             sf.datediff(sf.lit(max_timestamp), df.registration_ts).alias('account_age')).distinct()\n",
    "    \n",
    "    vector_cols.append('account_age')\n",
    "    feat_df = feat_df.join(account_ages, on='userId')\n",
    "    \n",
    "    # Week song counts\n",
    "    week_counts = df.where(df.page=='NextSong') \\\n",
    "                .groupby('userId', sf.date_trunc('week', 'timestamp').cast('date').alias('week')).count() \\\n",
    "                .groupby('userId').pivot('week').sum().fillna(0)\n",
    "    \n",
    "    vector_cols.extend(week_counts.columns[1:])\n",
    "    feat_df = feat_df.join(week_counts, on='userId')\n",
    "    \n",
    "    # Get genders\n",
    "    genders = df.select('userId', sf.when(sf.col('gender')=='F', 0).otherwise(1).alias('genders')).distinct()\n",
    "    \n",
    "    vector_cols.append('genders')\n",
    "    feat_df = feat_df.join(genders, on='userId')\n",
    "    \n",
    "    # Assemble the vector\n",
    "    assembler = VectorAssembler(inputCols=vector_cols, outputCol='features')\n",
    "    \n",
    "    return assembler.transform(feat_df)"
   ]
  },
  {
   "cell_type": "markdown",
   "metadata": {},
   "source": [
    "Now that we've put it all together we can make sure it works on the subset and do some sanity checks."
   ]
  },
  {
   "cell_type": "code",
   "execution_count": 126,
   "metadata": {},
   "outputs": [],
   "source": [
    "feature_df = get_feature_df(df)"
   ]
  },
  {
   "cell_type": "code",
   "execution_count": 128,
   "metadata": {},
   "outputs": [
    {
     "data": {
      "text/plain": [
       "225"
      ]
     },
     "execution_count": 128,
     "metadata": {},
     "output_type": "execute_result"
    }
   ],
   "source": [
    "feature_df.select('features').count()"
   ]
  },
  {
   "cell_type": "markdown",
   "metadata": {},
   "source": [
    "Looks like we have 225 users just as we expected, now let's wrap up by printing the schema:"
   ]
  },
  {
   "cell_type": "code",
   "execution_count": 127,
   "metadata": {
    "scrolled": false
   },
   "outputs": [
    {
     "name": "stdout",
     "output_type": "stream",
     "text": [
      "root\n",
      " |-- userId: string (nullable = true)\n",
      " |-- About: double (nullable = true)\n",
      " |-- Add Friend: double (nullable = true)\n",
      " |-- Add to Playlist: double (nullable = true)\n",
      " |-- churn: long (nullable = true)\n",
      " |-- Downgrade: double (nullable = true)\n",
      " |-- Error: double (nullable = true)\n",
      " |-- Help: double (nullable = true)\n",
      " |-- Home: double (nullable = true)\n",
      " |-- Logout: double (nullable = true)\n",
      " |-- NextSong: double (nullable = true)\n",
      " |-- Roll Advert: double (nullable = true)\n",
      " |-- Save Settings: double (nullable = true)\n",
      " |-- Settings: double (nullable = true)\n",
      " |-- Submit Downgrade: double (nullable = true)\n",
      " |-- Submit Upgrade: double (nullable = true)\n",
      " |-- Thumbs Down: double (nullable = true)\n",
      " |-- Thumbs Up: double (nullable = true)\n",
      " |-- Upgrade: double (nullable = true)\n",
      " |-- session_count: long (nullable = false)\n",
      " |-- account_age: integer (nullable = true)\n",
      " |-- 2018-10-01: long (nullable = true)\n",
      " |-- 2018-10-08: long (nullable = true)\n",
      " |-- 2018-10-15: long (nullable = true)\n",
      " |-- 2018-10-22: long (nullable = true)\n",
      " |-- 2018-10-29: long (nullable = true)\n",
      " |-- 2018-11-05: long (nullable = true)\n",
      " |-- 2018-11-12: long (nullable = true)\n",
      " |-- 2018-11-19: long (nullable = true)\n",
      " |-- 2018-11-26: long (nullable = true)\n",
      " |-- 2018-12-03: long (nullable = true)\n",
      " |-- genders: integer (nullable = false)\n",
      " |-- features: vector (nullable = true)\n",
      "\n"
     ]
    }
   ],
   "source": [
    "feature_df.printSchema()"
   ]
  },
  {
   "cell_type": "markdown",
   "metadata": {},
   "source": [
    "# Modeling and Conclusions\n",
    "\n",
    "See the next notebook for the next steps!"
   ]
  }
 ],
 "metadata": {
  "kernelspec": {
   "display_name": "Python 3",
   "language": "python",
   "name": "python3"
  },
  "language_info": {
   "codemirror_mode": {
    "name": "ipython",
    "version": 3
   },
   "file_extension": ".py",
   "mimetype": "text/x-python",
   "name": "python",
   "nbconvert_exporter": "python",
   "pygments_lexer": "ipython3",
   "version": "3.6.5"
  }
 },
 "nbformat": 4,
 "nbformat_minor": 2
}
